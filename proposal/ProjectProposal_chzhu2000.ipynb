{
 "cells": [
  {
   "cell_type": "markdown",
   "metadata": {},
   "source": [
    "# COGS 108 - Project Proposal"
   ]
  },
  {
   "cell_type": "markdown",
   "metadata": {},
   "source": [
    "# Names & GitHub ID\n",
    "\n",
    "- Name: Chenhao Zhu\n",
    "- GitHub Username: chzhu2000"
   ]
  },
  {
   "cell_type": "markdown",
   "metadata": {},
   "source": [
    "# Research Question"
   ]
  },
  {
   "cell_type": "markdown",
   "metadata": {},
   "source": [
    "How many more parking spaces are needed near Balboa Park in San Diego so that it is enough for travellers and visitors to park in the next five years. "
   ]
  },
  {
   "cell_type": "markdown",
   "metadata": {},
   "source": [
    "## Background and Prior Work"
   ]
  },
  {
   "cell_type": "markdown",
   "metadata": {},
   "source": [
    "I as a foreigner in San Diego, have spent a whole year discover the beautiful parks and recreations. Among all of those parks, the Balboa Park is the famous park in San Diego. Every time I visit to the Balboa Park, finding a space for parking is very hard. Obviously there is less parking space than traveller and visiors.The Balboa Park is a public place and should have planety of parking space. So I found some resource online. There is a current map demonstrate how many parking lots are there in Balboa Park now which could help me find the parking lots and know the number of spaces we have for now. There is also a study about Balboa Park parking which is done in August 2003. This study shows a way to estimate the cars enter the park in a day by having the people coming in a day and estimate the one car in average will have 2 person to get the approximate number of cars. Also it shows a survey which may used for this report. These prior work will be a good helper for me to do this research especilly the way to evaluate cars entring the park per day.  \n",
    "\n",
    "References (include links):\n",
    "- 1)Balboa Park land use, circulation, and parking study-Discovery Phase White Paper, August,2003 https://c100.org/resources/jones%26jones.whitepaper_2003-8_opt.pdf\n",
    "- 2)The actual parking lots in Balboa Park these days. This is from the Balboa Park website. https://www.balboapark.org/plan/parking"
   ]
  },
  {
   "cell_type": "markdown",
   "metadata": {},
   "source": [
    "# Hypothesis\n"
   ]
  },
  {
   "cell_type": "markdown",
   "metadata": {},
   "source": [
    "I believe parking spaces need to be doubled in the next five years in order to have enough space for travellers and visitors to come. "
   ]
  },
  {
   "cell_type": "markdown",
   "metadata": {},
   "source": [
    "# Data"
   ]
  },
  {
   "cell_type": "markdown",
   "metadata": {},
   "source": [
    "My ideal data set should have form that account for the cars come in Balboa Park each day in 11 pm, collected in different years and the spaces Balboa Park have in that same year. \n",
    "\n",
    "In the form  I will need following variables: Date,month,year,number of car visited in 11am, number of parking space in that time. \n",
    "I need as more as possible sets of observations to accomplish the goal. But at least five observations in the same day in different years. \n",
    "\n",
    "Since there is epidemic situation now and the data collect today is very inaccurate. I will need to access the old data from City of San Diego since I believe there should be accessible data.\n",
    "\n",
    "\n",
    "\n",
    "\n",
    "\n",
    "\n"
   ]
  },
  {
   "cell_type": "markdown",
   "metadata": {},
   "source": [
    "# Ethics & Privacy"
   ]
  },
  {
   "cell_type": "markdown",
   "metadata": {},
   "source": [
    "Ethics：When we collect the data, there are two main part the collection of car plate inside the parking lots and the the number of parking space near Balboa Park. Collecting the parking space will not have any problem related to ethics. Collecting cars inside the balboa park maybe have some concern about ethics. The way to collect cars information is to collect the car plate which goes inside the parking lots which will not raise ethics concern.\n",
    "\n",
    "Privacy: When collect the parking space data, it is public facility, so no privacy concern is raised. Also if we keep the data of each car plate number safe car owners' privacy will not be effected. \n",
    "\n",
    "When access the data in the City of San Diego, we need to be aware that lots of data apart from number of cars and number of parking space, may access some privacy issue. We should avoid seeking into those private information and keep all our research data secure. "
   ]
  }
 ],
 "metadata": {
  "kernelspec": {
   "display_name": "Python 3",
   "language": "python",
   "name": "python3"
  },
  "language_info": {
   "codemirror_mode": {
    "name": "ipython",
    "version": 3
   },
   "file_extension": ".py",
   "mimetype": "text/x-python",
   "name": "python",
   "nbconvert_exporter": "python",
   "pygments_lexer": "ipython3",
   "version": "3.7.6"
  }
 },
 "nbformat": 4,
 "nbformat_minor": 2
}
